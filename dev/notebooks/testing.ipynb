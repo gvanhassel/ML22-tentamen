{
 "cells": [
  {
   "cell_type": "code",
   "execution_count": 1,
   "metadata": {},
   "outputs": [],
   "source": [
    "from tentamen.settings import presets_GRUAtt as presets\n",
    "from ray import tune\n",
    "from tentamen.settings import LinearSearchSpace, GRUAttationSearchSpace #, presets\n",
    "import numpy as np"
   ]
  },
  {
   "cell_type": "code",
   "execution_count": 2,
   "metadata": {},
   "outputs": [
    {
     "data": {
      "text/plain": [
       "WindowsPath('C:/Users/gvanh/Git_documents/ML22-tentamen/logsGRUAtt')"
      ]
     },
     "execution_count": 2,
     "metadata": {},
     "output_type": "execute_result"
    }
   ],
   "source": [
    "presets.logdir"
   ]
  },
  {
   "cell_type": "code",
   "execution_count": 3,
   "metadata": {},
   "outputs": [],
   "source": [
    "obj = tune.randint(2, 32)\n",
    "obj2 = tune.sample_from(lambda spec: [1,2,3])"
   ]
  },
  {
   "cell_type": "code",
   "execution_count": 4,
   "metadata": {},
   "outputs": [
    {
     "data": {
      "text/plain": [
       "<ray.tune.search.sample.Function at 0x210c7de04c0>"
      ]
     },
     "execution_count": 4,
     "metadata": {},
     "output_type": "execute_result"
    }
   ],
   "source": [
    "obj2"
   ]
  },
  {
   "cell_type": "code",
   "execution_count": 5,
   "metadata": {},
   "outputs": [],
   "source": [
    "config = GRUAttationSearchSpace(\n",
    "        input=13,\n",
    "        output=20,\n",
    "        tunedir=presets.logdir,\n",
    "    )"
   ]
  },
  {
   "cell_type": "code",
   "execution_count": 6,
   "metadata": {},
   "outputs": [
    {
     "data": {
      "text/plain": [
       "{'input': 13,\n",
       " 'output': 20,\n",
       " 'tunedir': WindowsPath('C:/Users/gvanh/Git_documents/ML22-tentamen/logsGRUAtt'),\n",
       " 'num_layers': <ray.tune.search.sample.Integer at 0x210e1453b20>,\n",
       " 'num_heads': <ray.tune.search.sample.Function at 0x210e14537c0>,\n",
       " 'hidden_size': <ray.tune.search.sample.Function at 0x210c7dcb9d0>,\n",
       " 'dropout': <ray.tune.search.sample.Float at 0x210c7dcb7f0>}"
      ]
     },
     "execution_count": 6,
     "metadata": {},
     "output_type": "execute_result"
    }
   ],
   "source": [
    "config.dict()"
   ]
  },
  {
   "cell_type": "code",
   "execution_count": 70,
   "metadata": {},
   "outputs": [
    {
     "data": {
      "text/plain": [
       "6"
      ]
     },
     "execution_count": 70,
     "metadata": {},
     "output_type": "execute_result"
    }
   ],
   "source": [
    "np.random.randint(2,32)"
   ]
  },
  {
   "cell_type": "code",
   "execution_count": null,
   "metadata": {},
   "outputs": [],
   "source": []
  },
  {
   "cell_type": "code",
   "execution_count": null,
   "metadata": {},
   "outputs": [],
   "source": []
  }
 ],
 "metadata": {
  "kernelspec": {
   "display_name": "tentamen-gYSlv3NN-py3.9",
   "language": "python",
   "name": "python3"
  },
  "language_info": {
   "codemirror_mode": {
    "name": "ipython",
    "version": 3
   },
   "file_extension": ".py",
   "mimetype": "text/x-python",
   "name": "python",
   "nbconvert_exporter": "python",
   "pygments_lexer": "ipython3",
   "version": "3.9.12"
  },
  "orig_nbformat": 4,
  "vscode": {
   "interpreter": {
    "hash": "3efb85060859c1f17cdc8a1f0957274a9b32881752312a613eb8ae7a7bf7b990"
   }
  }
 },
 "nbformat": 4,
 "nbformat_minor": 2
}
