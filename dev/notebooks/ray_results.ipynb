{
 "cells": [
  {
   "cell_type": "code",
   "execution_count": 2,
   "metadata": {},
   "outputs": [],
   "source": [
    "import sys\n",
    "\n",
    "sys.path.insert(0, \"../..\")\n",
    "from pathlib import Path\n",
    "from tentamen.settings import GRUAttationSearchSpace\n"
   ]
  },
  {
   "cell_type": "code",
   "execution_count": 3,
   "metadata": {},
   "outputs": [
    {
     "data": {
      "text/plain": [
       "True"
      ]
     },
     "execution_count": 3,
     "metadata": {},
     "output_type": "execute_result"
    }
   ],
   "source": [
    "tune_dir = Path(\"../../logsGRUAtt/train_2023-01-28_20-11-02\")\n",
    "tune_dir.exists()\n"
   ]
  },
  {
   "cell_type": "code",
   "execution_count": 4,
   "metadata": {},
   "outputs": [
    {
     "name": "stderr",
     "output_type": "stream",
     "text": [
      "2023-01-29 16:09:00,561\tINFO worker.py:1538 -- Started a local Ray instance.\n",
      "2023-01-29 16:09:06,753\tINFO experiment_analysis.py:795 -- No `self.trials`. Drawing logdirs from checkpoint file. This may result in some information that is out of sync, as checkpointing is periodic.\n"
     ]
    }
   ],
   "source": [
    "from ray.tune import ExperimentAnalysis\n",
    "import ray\n",
    "ray.init(ignore_reinit_error=True)\n",
    "\n",
    "analysis = ExperimentAnalysis(tune_dir)\n"
   ]
  },
  {
   "cell_type": "code",
   "execution_count": 139,
   "metadata": {},
   "outputs": [
    {
     "data": {
      "text/plain": [
       "Index(['iterations', 'train_loss', 'test_loss', 'Accuracy', 'time_this_iter_s',\n",
       "       'done', 'timesteps_total', 'episodes_total', 'training_iteration',\n",
       "       'experiment_id', 'date', 'timestamp', 'time_total_s', 'pid', 'hostname',\n",
       "       'node_ip', 'time_since_restore', 'timesteps_since_restore',\n",
       "       'iterations_since_restore', 'warmup_time', 'experiment_tag',\n",
       "       'config/input', 'config/output', 'config/tunedir', 'config/hidden_size',\n",
       "       'config/num_layers', 'config/num_heads', 'config/dropout'],\n",
       "      dtype='object')"
      ]
     },
     "execution_count": 139,
     "metadata": {},
     "output_type": "execute_result"
    }
   ],
   "source": [
    "analysis.results_df.columns"
   ]
  },
  {
   "cell_type": "code",
   "execution_count": 6,
   "metadata": {},
   "outputs": [],
   "source": [
    "import plotly.express as px\n",
    "\n",
    "plot = analysis.results_df\n",
    "select = [\"Accuracy\", \"config/hidden_size\", \"config/dropout\", \"config/num_layers\",\"config/num_heads\"]\n",
    "p = plot[select].reset_index().dropna()\n"
   ]
  },
  {
   "cell_type": "markdown",
   "metadata": {},
   "source": [
    "Let's sort by accuracy"
   ]
  },
  {
   "cell_type": "code",
   "execution_count": 38,
   "metadata": {},
   "outputs": [
    {
     "data": {
      "text/html": [
       "<div>\n",
       "<style scoped>\n",
       "    .dataframe tbody tr th:only-of-type {\n",
       "        vertical-align: middle;\n",
       "    }\n",
       "\n",
       "    .dataframe tbody tr th {\n",
       "        vertical-align: top;\n",
       "    }\n",
       "\n",
       "    .dataframe thead th {\n",
       "        text-align: right;\n",
       "    }\n",
       "</style>\n",
       "<table border=\"1\" class=\"dataframe\">\n",
       "  <thead>\n",
       "    <tr style=\"text-align: right;\">\n",
       "      <th></th>\n",
       "      <th>trial_id</th>\n",
       "      <th>Accuracy</th>\n",
       "      <th>config/hidden_size</th>\n",
       "      <th>config/dropout</th>\n",
       "      <th>config/num_layers</th>\n",
       "      <th>config/num_heads</th>\n",
       "    </tr>\n",
       "  </thead>\n",
       "  <tbody>\n",
       "    <tr>\n",
       "      <th>13</th>\n",
       "      <td>62592893</td>\n",
       "      <td>0.146599</td>\n",
       "      <td>208</td>\n",
       "      <td>0.126589</td>\n",
       "      <td>13</td>\n",
       "      <td>8</td>\n",
       "    </tr>\n",
       "    <tr>\n",
       "      <th>32</th>\n",
       "      <td>da0eecc6</td>\n",
       "      <td>0.187500</td>\n",
       "      <td>176</td>\n",
       "      <td>0.030048</td>\n",
       "      <td>14</td>\n",
       "      <td>2</td>\n",
       "    </tr>\n",
       "    <tr>\n",
       "      <th>34</th>\n",
       "      <td>daf56522</td>\n",
       "      <td>0.191636</td>\n",
       "      <td>112</td>\n",
       "      <td>0.075183</td>\n",
       "      <td>14</td>\n",
       "      <td>8</td>\n",
       "    </tr>\n",
       "    <tr>\n",
       "      <th>35</th>\n",
       "      <td>dafedab5</td>\n",
       "      <td>0.192096</td>\n",
       "      <td>272</td>\n",
       "      <td>0.184523</td>\n",
       "      <td>12</td>\n",
       "      <td>4</td>\n",
       "    </tr>\n",
       "    <tr>\n",
       "      <th>33</th>\n",
       "      <td>da545592</td>\n",
       "      <td>0.205882</td>\n",
       "      <td>80</td>\n",
       "      <td>0.152158</td>\n",
       "      <td>14</td>\n",
       "      <td>4</td>\n",
       "    </tr>\n",
       "    <tr>\n",
       "      <th>3</th>\n",
       "      <td>1953ea3c</td>\n",
       "      <td>0.227022</td>\n",
       "      <td>192</td>\n",
       "      <td>0.064596</td>\n",
       "      <td>12</td>\n",
       "      <td>8</td>\n",
       "    </tr>\n",
       "    <tr>\n",
       "      <th>15</th>\n",
       "      <td>8250d7cf</td>\n",
       "      <td>0.253676</td>\n",
       "      <td>144</td>\n",
       "      <td>0.133185</td>\n",
       "      <td>11</td>\n",
       "      <td>8</td>\n",
       "    </tr>\n",
       "    <tr>\n",
       "      <th>5</th>\n",
       "      <td>1d7be642</td>\n",
       "      <td>0.280790</td>\n",
       "      <td>240</td>\n",
       "      <td>0.094064</td>\n",
       "      <td>15</td>\n",
       "      <td>4</td>\n",
       "    </tr>\n",
       "    <tr>\n",
       "      <th>7</th>\n",
       "      <td>20e5113b</td>\n",
       "      <td>0.424632</td>\n",
       "      <td>192</td>\n",
       "      <td>0.013996</td>\n",
       "      <td>10</td>\n",
       "      <td>2</td>\n",
       "    </tr>\n",
       "    <tr>\n",
       "      <th>1</th>\n",
       "      <td>11182a64</td>\n",
       "      <td>0.540441</td>\n",
       "      <td>96</td>\n",
       "      <td>0.015573</td>\n",
       "      <td>8</td>\n",
       "      <td>8</td>\n",
       "    </tr>\n",
       "    <tr>\n",
       "      <th>37</th>\n",
       "      <td>f218a0b1</td>\n",
       "      <td>0.544577</td>\n",
       "      <td>224</td>\n",
       "      <td>0.084253</td>\n",
       "      <td>11</td>\n",
       "      <td>4</td>\n",
       "    </tr>\n",
       "    <tr>\n",
       "      <th>16</th>\n",
       "      <td>8926bb95</td>\n",
       "      <td>0.660846</td>\n",
       "      <td>240</td>\n",
       "      <td>0.077950</td>\n",
       "      <td>7</td>\n",
       "      <td>2</td>\n",
       "    </tr>\n",
       "    <tr>\n",
       "      <th>30</th>\n",
       "      <td>d46dc870</td>\n",
       "      <td>0.669577</td>\n",
       "      <td>272</td>\n",
       "      <td>0.133674</td>\n",
       "      <td>8</td>\n",
       "      <td>2</td>\n",
       "    </tr>\n",
       "    <tr>\n",
       "      <th>19</th>\n",
       "      <td>92664a25</td>\n",
       "      <td>0.670956</td>\n",
       "      <td>144</td>\n",
       "      <td>0.167136</td>\n",
       "      <td>7</td>\n",
       "      <td>4</td>\n",
       "    </tr>\n",
       "    <tr>\n",
       "      <th>26</th>\n",
       "      <td>bec491fa</td>\n",
       "      <td>0.681985</td>\n",
       "      <td>208</td>\n",
       "      <td>0.088929</td>\n",
       "      <td>8</td>\n",
       "      <td>4</td>\n",
       "    </tr>\n",
       "    <tr>\n",
       "      <th>31</th>\n",
       "      <td>d67a26e2</td>\n",
       "      <td>0.739890</td>\n",
       "      <td>256</td>\n",
       "      <td>0.140324</td>\n",
       "      <td>7</td>\n",
       "      <td>2</td>\n",
       "    </tr>\n",
       "    <tr>\n",
       "      <th>21</th>\n",
       "      <td>9c13e06c</td>\n",
       "      <td>0.753217</td>\n",
       "      <td>288</td>\n",
       "      <td>0.168454</td>\n",
       "      <td>7</td>\n",
       "      <td>8</td>\n",
       "    </tr>\n",
       "    <tr>\n",
       "      <th>2</th>\n",
       "      <td>115ea7c0</td>\n",
       "      <td>0.786305</td>\n",
       "      <td>224</td>\n",
       "      <td>0.058682</td>\n",
       "      <td>6</td>\n",
       "      <td>4</td>\n",
       "    </tr>\n",
       "    <tr>\n",
       "      <th>12</th>\n",
       "      <td>4281a984</td>\n",
       "      <td>0.840533</td>\n",
       "      <td>288</td>\n",
       "      <td>0.003247</td>\n",
       "      <td>10</td>\n",
       "      <td>4</td>\n",
       "    </tr>\n",
       "    <tr>\n",
       "      <th>6</th>\n",
       "      <td>205be1c9</td>\n",
       "      <td>0.844210</td>\n",
       "      <td>160</td>\n",
       "      <td>0.097791</td>\n",
       "      <td>10</td>\n",
       "      <td>4</td>\n",
       "    </tr>\n",
       "    <tr>\n",
       "      <th>9</th>\n",
       "      <td>257fa332</td>\n",
       "      <td>0.883732</td>\n",
       "      <td>176</td>\n",
       "      <td>0.167499</td>\n",
       "      <td>9</td>\n",
       "      <td>4</td>\n",
       "    </tr>\n",
       "    <tr>\n",
       "      <th>24</th>\n",
       "      <td>a9246e21</td>\n",
       "      <td>0.889246</td>\n",
       "      <td>80</td>\n",
       "      <td>0.195189</td>\n",
       "      <td>2</td>\n",
       "      <td>4</td>\n",
       "    </tr>\n",
       "    <tr>\n",
       "      <th>38</th>\n",
       "      <td>f5d44a1a</td>\n",
       "      <td>0.891085</td>\n",
       "      <td>144</td>\n",
       "      <td>0.047768</td>\n",
       "      <td>2</td>\n",
       "      <td>8</td>\n",
       "    </tr>\n",
       "    <tr>\n",
       "      <th>17</th>\n",
       "      <td>8f4916ee</td>\n",
       "      <td>0.895221</td>\n",
       "      <td>128</td>\n",
       "      <td>0.031101</td>\n",
       "      <td>6</td>\n",
       "      <td>2</td>\n",
       "    </tr>\n",
       "    <tr>\n",
       "      <th>27</th>\n",
       "      <td>c11866b6</td>\n",
       "      <td>0.904412</td>\n",
       "      <td>176</td>\n",
       "      <td>0.015412</td>\n",
       "      <td>4</td>\n",
       "      <td>4</td>\n",
       "    </tr>\n",
       "    <tr>\n",
       "      <th>20</th>\n",
       "      <td>99362435</td>\n",
       "      <td>0.909926</td>\n",
       "      <td>192</td>\n",
       "      <td>0.165541</td>\n",
       "      <td>7</td>\n",
       "      <td>4</td>\n",
       "    </tr>\n",
       "    <tr>\n",
       "      <th>8</th>\n",
       "      <td>23360f8d</td>\n",
       "      <td>0.909926</td>\n",
       "      <td>272</td>\n",
       "      <td>0.080295</td>\n",
       "      <td>5</td>\n",
       "      <td>4</td>\n",
       "    </tr>\n",
       "    <tr>\n",
       "      <th>14</th>\n",
       "      <td>7ebd71b3</td>\n",
       "      <td>0.912684</td>\n",
       "      <td>144</td>\n",
       "      <td>0.178450</td>\n",
       "      <td>5</td>\n",
       "      <td>4</td>\n",
       "    </tr>\n",
       "    <tr>\n",
       "      <th>28</th>\n",
       "      <td>c98782dc</td>\n",
       "      <td>0.920037</td>\n",
       "      <td>256</td>\n",
       "      <td>0.020622</td>\n",
       "      <td>4</td>\n",
       "      <td>2</td>\n",
       "    </tr>\n",
       "    <tr>\n",
       "      <th>11</th>\n",
       "      <td>36e54534</td>\n",
       "      <td>0.930147</td>\n",
       "      <td>176</td>\n",
       "      <td>0.050273</td>\n",
       "      <td>2</td>\n",
       "      <td>2</td>\n",
       "    </tr>\n",
       "    <tr>\n",
       "      <th>10</th>\n",
       "      <td>2834cbb6</td>\n",
       "      <td>0.941636</td>\n",
       "      <td>176</td>\n",
       "      <td>0.053812</td>\n",
       "      <td>2</td>\n",
       "      <td>8</td>\n",
       "    </tr>\n",
       "    <tr>\n",
       "      <th>18</th>\n",
       "      <td>8fa52d13</td>\n",
       "      <td>0.952665</td>\n",
       "      <td>176</td>\n",
       "      <td>0.073780</td>\n",
       "      <td>3</td>\n",
       "      <td>8</td>\n",
       "    </tr>\n",
       "    <tr>\n",
       "      <th>22</th>\n",
       "      <td>a54b54a4</td>\n",
       "      <td>0.955882</td>\n",
       "      <td>192</td>\n",
       "      <td>0.001837</td>\n",
       "      <td>2</td>\n",
       "      <td>8</td>\n",
       "    </tr>\n",
       "    <tr>\n",
       "      <th>23</th>\n",
       "      <td>a690f59e</td>\n",
       "      <td>0.966912</td>\n",
       "      <td>144</td>\n",
       "      <td>0.050701</td>\n",
       "      <td>2</td>\n",
       "      <td>8</td>\n",
       "    </tr>\n",
       "    <tr>\n",
       "      <th>29</th>\n",
       "      <td>cc169bd0</td>\n",
       "      <td>0.972426</td>\n",
       "      <td>128</td>\n",
       "      <td>0.044451</td>\n",
       "      <td>2</td>\n",
       "      <td>4</td>\n",
       "    </tr>\n",
       "    <tr>\n",
       "      <th>36</th>\n",
       "      <td>e3ad597d</td>\n",
       "      <td>0.974724</td>\n",
       "      <td>192</td>\n",
       "      <td>0.049406</td>\n",
       "      <td>2</td>\n",
       "      <td>8</td>\n",
       "    </tr>\n",
       "    <tr>\n",
       "      <th>39</th>\n",
       "      <td>f6ad29e4</td>\n",
       "      <td>0.977941</td>\n",
       "      <td>144</td>\n",
       "      <td>0.066926</td>\n",
       "      <td>2</td>\n",
       "      <td>8</td>\n",
       "    </tr>\n",
       "    <tr>\n",
       "      <th>4</th>\n",
       "      <td>19e97983</td>\n",
       "      <td>0.983915</td>\n",
       "      <td>144</td>\n",
       "      <td>0.054514</td>\n",
       "      <td>2</td>\n",
       "      <td>4</td>\n",
       "    </tr>\n",
       "    <tr>\n",
       "      <th>0</th>\n",
       "      <td>1008f348</td>\n",
       "      <td>0.985754</td>\n",
       "      <td>176</td>\n",
       "      <td>0.042784</td>\n",
       "      <td>2</td>\n",
       "      <td>8</td>\n",
       "    </tr>\n",
       "    <tr>\n",
       "      <th>25</th>\n",
       "      <td>b5273c64</td>\n",
       "      <td>0.987592</td>\n",
       "      <td>160</td>\n",
       "      <td>0.020913</td>\n",
       "      <td>2</td>\n",
       "      <td>2</td>\n",
       "    </tr>\n",
       "  </tbody>\n",
       "</table>\n",
       "</div>"
      ],
      "text/plain": [
       "    trial_id  Accuracy  config/hidden_size  config/dropout  config/num_layers  \\\n",
       "13  62592893  0.146599                 208        0.126589                 13   \n",
       "32  da0eecc6  0.187500                 176        0.030048                 14   \n",
       "34  daf56522  0.191636                 112        0.075183                 14   \n",
       "35  dafedab5  0.192096                 272        0.184523                 12   \n",
       "33  da545592  0.205882                  80        0.152158                 14   \n",
       "3   1953ea3c  0.227022                 192        0.064596                 12   \n",
       "15  8250d7cf  0.253676                 144        0.133185                 11   \n",
       "5   1d7be642  0.280790                 240        0.094064                 15   \n",
       "7   20e5113b  0.424632                 192        0.013996                 10   \n",
       "1   11182a64  0.540441                  96        0.015573                  8   \n",
       "37  f218a0b1  0.544577                 224        0.084253                 11   \n",
       "16  8926bb95  0.660846                 240        0.077950                  7   \n",
       "30  d46dc870  0.669577                 272        0.133674                  8   \n",
       "19  92664a25  0.670956                 144        0.167136                  7   \n",
       "26  bec491fa  0.681985                 208        0.088929                  8   \n",
       "31  d67a26e2  0.739890                 256        0.140324                  7   \n",
       "21  9c13e06c  0.753217                 288        0.168454                  7   \n",
       "2   115ea7c0  0.786305                 224        0.058682                  6   \n",
       "12  4281a984  0.840533                 288        0.003247                 10   \n",
       "6   205be1c9  0.844210                 160        0.097791                 10   \n",
       "9   257fa332  0.883732                 176        0.167499                  9   \n",
       "24  a9246e21  0.889246                  80        0.195189                  2   \n",
       "38  f5d44a1a  0.891085                 144        0.047768                  2   \n",
       "17  8f4916ee  0.895221                 128        0.031101                  6   \n",
       "27  c11866b6  0.904412                 176        0.015412                  4   \n",
       "20  99362435  0.909926                 192        0.165541                  7   \n",
       "8   23360f8d  0.909926                 272        0.080295                  5   \n",
       "14  7ebd71b3  0.912684                 144        0.178450                  5   \n",
       "28  c98782dc  0.920037                 256        0.020622                  4   \n",
       "11  36e54534  0.930147                 176        0.050273                  2   \n",
       "10  2834cbb6  0.941636                 176        0.053812                  2   \n",
       "18  8fa52d13  0.952665                 176        0.073780                  3   \n",
       "22  a54b54a4  0.955882                 192        0.001837                  2   \n",
       "23  a690f59e  0.966912                 144        0.050701                  2   \n",
       "29  cc169bd0  0.972426                 128        0.044451                  2   \n",
       "36  e3ad597d  0.974724                 192        0.049406                  2   \n",
       "39  f6ad29e4  0.977941                 144        0.066926                  2   \n",
       "4   19e97983  0.983915                 144        0.054514                  2   \n",
       "0   1008f348  0.985754                 176        0.042784                  2   \n",
       "25  b5273c64  0.987592                 160        0.020913                  2   \n",
       "\n",
       "    config/num_heads  \n",
       "13                 8  \n",
       "32                 2  \n",
       "34                 8  \n",
       "35                 4  \n",
       "33                 4  \n",
       "3                  8  \n",
       "15                 8  \n",
       "5                  4  \n",
       "7                  2  \n",
       "1                  8  \n",
       "37                 4  \n",
       "16                 2  \n",
       "30                 2  \n",
       "19                 4  \n",
       "26                 4  \n",
       "31                 2  \n",
       "21                 8  \n",
       "2                  4  \n",
       "12                 4  \n",
       "6                  4  \n",
       "9                  4  \n",
       "24                 4  \n",
       "38                 8  \n",
       "17                 2  \n",
       "27                 4  \n",
       "20                 4  \n",
       "8                  4  \n",
       "14                 4  \n",
       "28                 2  \n",
       "11                 2  \n",
       "10                 8  \n",
       "18                 8  \n",
       "22                 8  \n",
       "23                 8  \n",
       "29                 4  \n",
       "36                 8  \n",
       "39                 8  \n",
       "4                  4  \n",
       "0                  8  \n",
       "25                 2  "
      ]
     },
     "execution_count": 38,
     "metadata": {},
     "output_type": "execute_result"
    }
   ],
   "source": [
    "p.sort_values(\"Accuracy\", inplace=True)\n",
    "\n",
    "p"
   ]
  },
  {
   "cell_type": "code",
   "execution_count": 136,
   "metadata": {},
   "outputs": [
    {
     "data": {
      "application/vnd.plotly.v1+json": {
       "config": {
        "plotlyServerURL": "https://plot.ly"
       },
       "data": [
        {
         "dimensions": [
          {
           "label": "Accuracy",
           "values": [
            0.6709558823529411,
            0.9558823529411765,
            0.9724264705882353,
            0.9747242647058824,
            0.9669117647058824,
            0.19209558823529413,
            0.7398897058823529,
            0.2270220588235294,
            0.28079044117647056,
            0.1875,
            0.9839154411764706,
            0.7532169117647058,
            0.9416360294117647,
            0.8442095588235294,
            0.9099264705882353,
            0.9526654411764706,
            0.8892463235294118,
            0.19163602941176472,
            0.6695772058823529,
            0.2536764705882353,
            0.5404411764705882,
            0.9044117647058824,
            0.9857536764705882,
            0.7863051470588235,
            0.9126838235294118,
            0.8837316176470589,
            0.42463235294117646,
            0.6819852941176471,
            0.9200367647058824,
            0.6608455882352942,
            0.5445772058823529,
            0.8405330882352942,
            0.8910845588235294,
            0.8952205882352942,
            0.9301470588235294,
            0.9779411764705882,
            0.9875919117647058,
            0.20588235294117646,
            0.14659926470588236,
            0.9099264705882353
           ]
          },
          {
           "label": "config/hidden_size",
           "values": [
            208,
            176,
            112,
            272,
            80,
            192,
            144,
            240,
            192,
            96,
            224,
            240,
            272,
            144,
            208,
            256,
            288,
            224,
            288,
            160,
            176,
            80,
            144,
            128,
            176,
            192,
            272,
            144,
            256,
            176,
            176,
            176,
            192,
            144,
            128,
            192,
            144,
            144,
            176,
            160
           ]
          },
          {
           "label": "config/dropout",
           "values": [
            0.12658856192233803,
            0.03004831886059909,
            0.07518317256845031,
            0.1845232172619099,
            0.15215775295504566,
            0.06459622632672056,
            0.13318488279457621,
            0.09406357860196501,
            0.013995559695885486,
            0.015572722191492772,
            0.08425265521612733,
            0.07794966649534033,
            0.1336736701123658,
            0.16713623361555116,
            0.08892888729779867,
            0.14032384438462142,
            0.16845427832399065,
            0.058681687969513986,
            0.0032467453986010364,
            0.09779144348317721,
            0.16749919721435574,
            0.1951891061136936,
            0.04776781998215798,
            0.03110120770600744,
            0.015412068150211834,
            0.16554078471074007,
            0.0802946957250043,
            0.17844976582234925,
            0.020621648319289723,
            0.05027272437039563,
            0.05381198918668925,
            0.07378020572994211,
            0.0018367979986808197,
            0.05070077171497165,
            0.044451310788240946,
            0.04940635003574581,
            0.06692608957975889,
            0.05451391366358191,
            0.042784032027557,
            0.020912795763146617
           ]
          },
          {
           "label": "config/num_layers",
           "values": [
            13,
            14,
            14,
            12,
            14,
            12,
            11,
            15,
            10,
            8,
            11,
            7,
            8,
            7,
            8,
            7,
            7,
            6,
            10,
            10,
            9,
            2,
            2,
            6,
            4,
            7,
            5,
            5,
            4,
            2,
            2,
            3,
            2,
            2,
            2,
            2,
            2,
            2,
            2,
            2
           ]
          },
          {
           "label": "config/num_heads",
           "values": [
            8,
            2,
            8,
            4,
            4,
            8,
            8,
            4,
            2,
            8,
            4,
            2,
            2,
            4,
            4,
            2,
            8,
            4,
            4,
            4,
            4,
            4,
            8,
            2,
            4,
            4,
            4,
            4,
            2,
            2,
            8,
            8,
            8,
            8,
            4,
            8,
            8,
            4,
            8,
            2
           ]
          }
         ],
         "domain": {
          "x": [
           0,
           1
          ],
          "y": [
           0,
           1
          ]
         },
         "line": {
          "color": [
           0.6709558823529411,
           0.9558823529411765,
           0.9724264705882353,
           0.9747242647058824,
           0.9669117647058824,
           0.19209558823529413,
           0.7398897058823529,
           0.2270220588235294,
           0.28079044117647056,
           0.1875,
           0.9839154411764706,
           0.7532169117647058,
           0.9416360294117647,
           0.8442095588235294,
           0.9099264705882353,
           0.9526654411764706,
           0.8892463235294118,
           0.19163602941176472,
           0.6695772058823529,
           0.2536764705882353,
           0.5404411764705882,
           0.9044117647058824,
           0.9857536764705882,
           0.7863051470588235,
           0.9126838235294118,
           0.8837316176470589,
           0.42463235294117646,
           0.6819852941176471,
           0.9200367647058824,
           0.6608455882352942,
           0.5445772058823529,
           0.8405330882352942,
           0.8910845588235294,
           0.8952205882352942,
           0.9301470588235294,
           0.9779411764705882,
           0.9875919117647058,
           0.20588235294117646,
           0.14659926470588236,
           0.9099264705882353
          ],
          "coloraxis": "coloraxis"
         },
         "name": "",
         "type": "parcoords"
        }
       ],
       "layout": {
        "coloraxis": {
         "colorbar": {
          "title": {
           "text": "Accuracy"
          }
         },
         "colorscale": [
          [
           0,
           "#0d0887"
          ],
          [
           0.1111111111111111,
           "#46039f"
          ],
          [
           0.2222222222222222,
           "#7201a8"
          ],
          [
           0.3333333333333333,
           "#9c179e"
          ],
          [
           0.4444444444444444,
           "#bd3786"
          ],
          [
           0.5555555555555556,
           "#d8576b"
          ],
          [
           0.6666666666666666,
           "#ed7953"
          ],
          [
           0.7777777777777778,
           "#fb9f3a"
          ],
          [
           0.8888888888888888,
           "#fdca26"
          ],
          [
           1,
           "#f0f921"
          ]
         ]
        },
        "legend": {
         "tracegroupgap": 0
        },
        "margin": {
         "t": 60
        },
        "template": {
         "data": {
          "bar": [
           {
            "error_x": {
             "color": "#2a3f5f"
            },
            "error_y": {
             "color": "#2a3f5f"
            },
            "marker": {
             "line": {
              "color": "#E5ECF6",
              "width": 0.5
             },
             "pattern": {
              "fillmode": "overlay",
              "size": 10,
              "solidity": 0.2
             }
            },
            "type": "bar"
           }
          ],
          "barpolar": [
           {
            "marker": {
             "line": {
              "color": "#E5ECF6",
              "width": 0.5
             },
             "pattern": {
              "fillmode": "overlay",
              "size": 10,
              "solidity": 0.2
             }
            },
            "type": "barpolar"
           }
          ],
          "carpet": [
           {
            "aaxis": {
             "endlinecolor": "#2a3f5f",
             "gridcolor": "white",
             "linecolor": "white",
             "minorgridcolor": "white",
             "startlinecolor": "#2a3f5f"
            },
            "baxis": {
             "endlinecolor": "#2a3f5f",
             "gridcolor": "white",
             "linecolor": "white",
             "minorgridcolor": "white",
             "startlinecolor": "#2a3f5f"
            },
            "type": "carpet"
           }
          ],
          "choropleth": [
           {
            "colorbar": {
             "outlinewidth": 0,
             "ticks": ""
            },
            "type": "choropleth"
           }
          ],
          "contour": [
           {
            "colorbar": {
             "outlinewidth": 0,
             "ticks": ""
            },
            "colorscale": [
             [
              0,
              "#0d0887"
             ],
             [
              0.1111111111111111,
              "#46039f"
             ],
             [
              0.2222222222222222,
              "#7201a8"
             ],
             [
              0.3333333333333333,
              "#9c179e"
             ],
             [
              0.4444444444444444,
              "#bd3786"
             ],
             [
              0.5555555555555556,
              "#d8576b"
             ],
             [
              0.6666666666666666,
              "#ed7953"
             ],
             [
              0.7777777777777778,
              "#fb9f3a"
             ],
             [
              0.8888888888888888,
              "#fdca26"
             ],
             [
              1,
              "#f0f921"
             ]
            ],
            "type": "contour"
           }
          ],
          "contourcarpet": [
           {
            "colorbar": {
             "outlinewidth": 0,
             "ticks": ""
            },
            "type": "contourcarpet"
           }
          ],
          "heatmap": [
           {
            "colorbar": {
             "outlinewidth": 0,
             "ticks": ""
            },
            "colorscale": [
             [
              0,
              "#0d0887"
             ],
             [
              0.1111111111111111,
              "#46039f"
             ],
             [
              0.2222222222222222,
              "#7201a8"
             ],
             [
              0.3333333333333333,
              "#9c179e"
             ],
             [
              0.4444444444444444,
              "#bd3786"
             ],
             [
              0.5555555555555556,
              "#d8576b"
             ],
             [
              0.6666666666666666,
              "#ed7953"
             ],
             [
              0.7777777777777778,
              "#fb9f3a"
             ],
             [
              0.8888888888888888,
              "#fdca26"
             ],
             [
              1,
              "#f0f921"
             ]
            ],
            "type": "heatmap"
           }
          ],
          "heatmapgl": [
           {
            "colorbar": {
             "outlinewidth": 0,
             "ticks": ""
            },
            "colorscale": [
             [
              0,
              "#0d0887"
             ],
             [
              0.1111111111111111,
              "#46039f"
             ],
             [
              0.2222222222222222,
              "#7201a8"
             ],
             [
              0.3333333333333333,
              "#9c179e"
             ],
             [
              0.4444444444444444,
              "#bd3786"
             ],
             [
              0.5555555555555556,
              "#d8576b"
             ],
             [
              0.6666666666666666,
              "#ed7953"
             ],
             [
              0.7777777777777778,
              "#fb9f3a"
             ],
             [
              0.8888888888888888,
              "#fdca26"
             ],
             [
              1,
              "#f0f921"
             ]
            ],
            "type": "heatmapgl"
           }
          ],
          "histogram": [
           {
            "marker": {
             "pattern": {
              "fillmode": "overlay",
              "size": 10,
              "solidity": 0.2
             }
            },
            "type": "histogram"
           }
          ],
          "histogram2d": [
           {
            "colorbar": {
             "outlinewidth": 0,
             "ticks": ""
            },
            "colorscale": [
             [
              0,
              "#0d0887"
             ],
             [
              0.1111111111111111,
              "#46039f"
             ],
             [
              0.2222222222222222,
              "#7201a8"
             ],
             [
              0.3333333333333333,
              "#9c179e"
             ],
             [
              0.4444444444444444,
              "#bd3786"
             ],
             [
              0.5555555555555556,
              "#d8576b"
             ],
             [
              0.6666666666666666,
              "#ed7953"
             ],
             [
              0.7777777777777778,
              "#fb9f3a"
             ],
             [
              0.8888888888888888,
              "#fdca26"
             ],
             [
              1,
              "#f0f921"
             ]
            ],
            "type": "histogram2d"
           }
          ],
          "histogram2dcontour": [
           {
            "colorbar": {
             "outlinewidth": 0,
             "ticks": ""
            },
            "colorscale": [
             [
              0,
              "#0d0887"
             ],
             [
              0.1111111111111111,
              "#46039f"
             ],
             [
              0.2222222222222222,
              "#7201a8"
             ],
             [
              0.3333333333333333,
              "#9c179e"
             ],
             [
              0.4444444444444444,
              "#bd3786"
             ],
             [
              0.5555555555555556,
              "#d8576b"
             ],
             [
              0.6666666666666666,
              "#ed7953"
             ],
             [
              0.7777777777777778,
              "#fb9f3a"
             ],
             [
              0.8888888888888888,
              "#fdca26"
             ],
             [
              1,
              "#f0f921"
             ]
            ],
            "type": "histogram2dcontour"
           }
          ],
          "mesh3d": [
           {
            "colorbar": {
             "outlinewidth": 0,
             "ticks": ""
            },
            "type": "mesh3d"
           }
          ],
          "parcoords": [
           {
            "line": {
             "colorbar": {
              "outlinewidth": 0,
              "ticks": ""
             }
            },
            "type": "parcoords"
           }
          ],
          "pie": [
           {
            "automargin": true,
            "type": "pie"
           }
          ],
          "scatter": [
           {
            "fillpattern": {
             "fillmode": "overlay",
             "size": 10,
             "solidity": 0.2
            },
            "type": "scatter"
           }
          ],
          "scatter3d": [
           {
            "line": {
             "colorbar": {
              "outlinewidth": 0,
              "ticks": ""
             }
            },
            "marker": {
             "colorbar": {
              "outlinewidth": 0,
              "ticks": ""
             }
            },
            "type": "scatter3d"
           }
          ],
          "scattercarpet": [
           {
            "marker": {
             "colorbar": {
              "outlinewidth": 0,
              "ticks": ""
             }
            },
            "type": "scattercarpet"
           }
          ],
          "scattergeo": [
           {
            "marker": {
             "colorbar": {
              "outlinewidth": 0,
              "ticks": ""
             }
            },
            "type": "scattergeo"
           }
          ],
          "scattergl": [
           {
            "marker": {
             "colorbar": {
              "outlinewidth": 0,
              "ticks": ""
             }
            },
            "type": "scattergl"
           }
          ],
          "scattermapbox": [
           {
            "marker": {
             "colorbar": {
              "outlinewidth": 0,
              "ticks": ""
             }
            },
            "type": "scattermapbox"
           }
          ],
          "scatterpolar": [
           {
            "marker": {
             "colorbar": {
              "outlinewidth": 0,
              "ticks": ""
             }
            },
            "type": "scatterpolar"
           }
          ],
          "scatterpolargl": [
           {
            "marker": {
             "colorbar": {
              "outlinewidth": 0,
              "ticks": ""
             }
            },
            "type": "scatterpolargl"
           }
          ],
          "scatterternary": [
           {
            "marker": {
             "colorbar": {
              "outlinewidth": 0,
              "ticks": ""
             }
            },
            "type": "scatterternary"
           }
          ],
          "surface": [
           {
            "colorbar": {
             "outlinewidth": 0,
             "ticks": ""
            },
            "colorscale": [
             [
              0,
              "#0d0887"
             ],
             [
              0.1111111111111111,
              "#46039f"
             ],
             [
              0.2222222222222222,
              "#7201a8"
             ],
             [
              0.3333333333333333,
              "#9c179e"
             ],
             [
              0.4444444444444444,
              "#bd3786"
             ],
             [
              0.5555555555555556,
              "#d8576b"
             ],
             [
              0.6666666666666666,
              "#ed7953"
             ],
             [
              0.7777777777777778,
              "#fb9f3a"
             ],
             [
              0.8888888888888888,
              "#fdca26"
             ],
             [
              1,
              "#f0f921"
             ]
            ],
            "type": "surface"
           }
          ],
          "table": [
           {
            "cells": {
             "fill": {
              "color": "#EBF0F8"
             },
             "line": {
              "color": "white"
             }
            },
            "header": {
             "fill": {
              "color": "#C8D4E3"
             },
             "line": {
              "color": "white"
             }
            },
            "type": "table"
           }
          ]
         },
         "layout": {
          "annotationdefaults": {
           "arrowcolor": "#2a3f5f",
           "arrowhead": 0,
           "arrowwidth": 1
          },
          "autotypenumbers": "strict",
          "coloraxis": {
           "colorbar": {
            "outlinewidth": 0,
            "ticks": ""
           }
          },
          "colorscale": {
           "diverging": [
            [
             0,
             "#8e0152"
            ],
            [
             0.1,
             "#c51b7d"
            ],
            [
             0.2,
             "#de77ae"
            ],
            [
             0.3,
             "#f1b6da"
            ],
            [
             0.4,
             "#fde0ef"
            ],
            [
             0.5,
             "#f7f7f7"
            ],
            [
             0.6,
             "#e6f5d0"
            ],
            [
             0.7,
             "#b8e186"
            ],
            [
             0.8,
             "#7fbc41"
            ],
            [
             0.9,
             "#4d9221"
            ],
            [
             1,
             "#276419"
            ]
           ],
           "sequential": [
            [
             0,
             "#0d0887"
            ],
            [
             0.1111111111111111,
             "#46039f"
            ],
            [
             0.2222222222222222,
             "#7201a8"
            ],
            [
             0.3333333333333333,
             "#9c179e"
            ],
            [
             0.4444444444444444,
             "#bd3786"
            ],
            [
             0.5555555555555556,
             "#d8576b"
            ],
            [
             0.6666666666666666,
             "#ed7953"
            ],
            [
             0.7777777777777778,
             "#fb9f3a"
            ],
            [
             0.8888888888888888,
             "#fdca26"
            ],
            [
             1,
             "#f0f921"
            ]
           ],
           "sequentialminus": [
            [
             0,
             "#0d0887"
            ],
            [
             0.1111111111111111,
             "#46039f"
            ],
            [
             0.2222222222222222,
             "#7201a8"
            ],
            [
             0.3333333333333333,
             "#9c179e"
            ],
            [
             0.4444444444444444,
             "#bd3786"
            ],
            [
             0.5555555555555556,
             "#d8576b"
            ],
            [
             0.6666666666666666,
             "#ed7953"
            ],
            [
             0.7777777777777778,
             "#fb9f3a"
            ],
            [
             0.8888888888888888,
             "#fdca26"
            ],
            [
             1,
             "#f0f921"
            ]
           ]
          },
          "colorway": [
           "#636efa",
           "#EF553B",
           "#00cc96",
           "#ab63fa",
           "#FFA15A",
           "#19d3f3",
           "#FF6692",
           "#B6E880",
           "#FF97FF",
           "#FECB52"
          ],
          "font": {
           "color": "#2a3f5f"
          },
          "geo": {
           "bgcolor": "white",
           "lakecolor": "white",
           "landcolor": "#E5ECF6",
           "showlakes": true,
           "showland": true,
           "subunitcolor": "white"
          },
          "hoverlabel": {
           "align": "left"
          },
          "hovermode": "closest",
          "mapbox": {
           "style": "light"
          },
          "paper_bgcolor": "white",
          "plot_bgcolor": "#E5ECF6",
          "polar": {
           "angularaxis": {
            "gridcolor": "white",
            "linecolor": "white",
            "ticks": ""
           },
           "bgcolor": "#E5ECF6",
           "radialaxis": {
            "gridcolor": "white",
            "linecolor": "white",
            "ticks": ""
           }
          },
          "scene": {
           "xaxis": {
            "backgroundcolor": "#E5ECF6",
            "gridcolor": "white",
            "gridwidth": 2,
            "linecolor": "white",
            "showbackground": true,
            "ticks": "",
            "zerolinecolor": "white"
           },
           "yaxis": {
            "backgroundcolor": "#E5ECF6",
            "gridcolor": "white",
            "gridwidth": 2,
            "linecolor": "white",
            "showbackground": true,
            "ticks": "",
            "zerolinecolor": "white"
           },
           "zaxis": {
            "backgroundcolor": "#E5ECF6",
            "gridcolor": "white",
            "gridwidth": 2,
            "linecolor": "white",
            "showbackground": true,
            "ticks": "",
            "zerolinecolor": "white"
           }
          },
          "shapedefaults": {
           "line": {
            "color": "#2a3f5f"
           }
          },
          "ternary": {
           "aaxis": {
            "gridcolor": "white",
            "linecolor": "white",
            "ticks": ""
           },
           "baxis": {
            "gridcolor": "white",
            "linecolor": "white",
            "ticks": ""
           },
           "bgcolor": "#E5ECF6",
           "caxis": {
            "gridcolor": "white",
            "linecolor": "white",
            "ticks": ""
           }
          },
          "title": {
           "x": 0.05
          },
          "xaxis": {
           "automargin": true,
           "gridcolor": "white",
           "linecolor": "white",
           "ticks": "",
           "title": {
            "standoff": 15
           },
           "zerolinecolor": "white",
           "zerolinewidth": 2
          },
          "yaxis": {
           "automargin": true,
           "gridcolor": "white",
           "linecolor": "white",
           "ticks": "",
           "title": {
            "standoff": 15
           },
           "zerolinecolor": "white",
           "zerolinewidth": 2
          }
         }
        }
       }
      }
     },
     "metadata": {},
     "output_type": "display_data"
    }
   ],
   "source": [
    "px.parallel_coordinates(p, color=\"Accuracy\")\n"
   ]
  },
  {
   "cell_type": "code",
   "execution_count": 135,
   "metadata": {},
   "outputs": [
    {
     "data": {
      "application/vnd.plotly.v1+json": {
       "config": {
        "plotlyServerURL": "https://plot.ly"
       },
       "data": [
        {
         "mode": "markers",
         "type": "scatter",
         "x": [
          208,
          176,
          112,
          272,
          80,
          192,
          144,
          240,
          192,
          96,
          224,
          240,
          272,
          144,
          208,
          256,
          288,
          224,
          288,
          160,
          176,
          80,
          144,
          128,
          176,
          192,
          272,
          144,
          256,
          176,
          176,
          176,
          192,
          144,
          128,
          192,
          144,
          144,
          176,
          160
         ],
         "xaxis": "x",
         "y": [
          0.14659926470588236,
          0.1875,
          0.19163602941176472,
          0.19209558823529413,
          0.20588235294117646,
          0.2270220588235294,
          0.2536764705882353,
          0.28079044117647056,
          0.42463235294117646,
          0.5404411764705882,
          0.5445772058823529,
          0.6608455882352942,
          0.6695772058823529,
          0.6709558823529411,
          0.6819852941176471,
          0.7398897058823529,
          0.7532169117647058,
          0.7863051470588235,
          0.8405330882352942,
          0.8442095588235294,
          0.8837316176470589,
          0.8892463235294118,
          0.8910845588235294,
          0.8952205882352942,
          0.9044117647058824,
          0.9099264705882353,
          0.9099264705882353,
          0.9126838235294118,
          0.9200367647058824,
          0.9301470588235294,
          0.9416360294117647,
          0.9526654411764706,
          0.9558823529411765,
          0.9669117647058824,
          0.9724264705882353,
          0.9747242647058824,
          0.9779411764705882,
          0.9839154411764706,
          0.9857536764705882,
          0.9875919117647058
         ],
         "yaxis": "y"
        },
        {
         "mode": "markers",
         "type": "scatter",
         "x": [
          0.12658856192233803,
          0.03004831886059909,
          0.07518317256845031,
          0.1845232172619099,
          0.15215775295504566,
          0.06459622632672056,
          0.13318488279457621,
          0.09406357860196501,
          0.013995559695885486,
          0.015572722191492772,
          0.08425265521612733,
          0.07794966649534033,
          0.1336736701123658,
          0.16713623361555116,
          0.08892888729779867,
          0.14032384438462142,
          0.16845427832399065,
          0.058681687969513986,
          0.0032467453986010364,
          0.09779144348317721,
          0.16749919721435574,
          0.1951891061136936,
          0.04776781998215798,
          0.03110120770600744,
          0.015412068150211834,
          0.16554078471074007,
          0.0802946957250043,
          0.17844976582234925,
          0.020621648319289723,
          0.05027272437039563,
          0.05381198918668925,
          0.07378020572994211,
          0.0018367979986808197,
          0.05070077171497165,
          0.044451310788240946,
          0.04940635003574581,
          0.06692608957975889,
          0.05451391366358191,
          0.042784032027557,
          0.020912795763146617
         ],
         "xaxis": "x2",
         "y": [
          0.14659926470588236,
          0.1875,
          0.19163602941176472,
          0.19209558823529413,
          0.20588235294117646,
          0.2270220588235294,
          0.2536764705882353,
          0.28079044117647056,
          0.42463235294117646,
          0.5404411764705882,
          0.5445772058823529,
          0.6608455882352942,
          0.6695772058823529,
          0.6709558823529411,
          0.6819852941176471,
          0.7398897058823529,
          0.7532169117647058,
          0.7863051470588235,
          0.8405330882352942,
          0.8442095588235294,
          0.8837316176470589,
          0.8892463235294118,
          0.8910845588235294,
          0.8952205882352942,
          0.9044117647058824,
          0.9099264705882353,
          0.9099264705882353,
          0.9126838235294118,
          0.9200367647058824,
          0.9301470588235294,
          0.9416360294117647,
          0.9526654411764706,
          0.9558823529411765,
          0.9669117647058824,
          0.9724264705882353,
          0.9747242647058824,
          0.9779411764705882,
          0.9839154411764706,
          0.9857536764705882,
          0.9875919117647058
         ],
         "yaxis": "y2"
        },
        {
         "mode": "markers",
         "type": "scatter",
         "x": [
          13,
          14,
          14,
          12,
          14,
          12,
          11,
          15,
          10,
          8,
          11,
          7,
          8,
          7,
          8,
          7,
          7,
          6,
          10,
          10,
          9,
          2,
          2,
          6,
          4,
          7,
          5,
          5,
          4,
          2,
          2,
          3,
          2,
          2,
          2,
          2,
          2,
          2,
          2,
          2
         ],
         "xaxis": "x3",
         "y": [
          0.14659926470588236,
          0.1875,
          0.19163602941176472,
          0.19209558823529413,
          0.20588235294117646,
          0.2270220588235294,
          0.2536764705882353,
          0.28079044117647056,
          0.42463235294117646,
          0.5404411764705882,
          0.5445772058823529,
          0.6608455882352942,
          0.6695772058823529,
          0.6709558823529411,
          0.6819852941176471,
          0.7398897058823529,
          0.7532169117647058,
          0.7863051470588235,
          0.8405330882352942,
          0.8442095588235294,
          0.8837316176470589,
          0.8892463235294118,
          0.8910845588235294,
          0.8952205882352942,
          0.9044117647058824,
          0.9099264705882353,
          0.9099264705882353,
          0.9126838235294118,
          0.9200367647058824,
          0.9301470588235294,
          0.9416360294117647,
          0.9526654411764706,
          0.9558823529411765,
          0.9669117647058824,
          0.9724264705882353,
          0.9747242647058824,
          0.9779411764705882,
          0.9839154411764706,
          0.9857536764705882,
          0.9875919117647058
         ],
         "yaxis": "y3"
        },
        {
         "mode": "markers",
         "type": "scatter",
         "x": [
          8,
          2,
          8,
          4,
          4,
          8,
          8,
          4,
          2,
          8,
          4,
          2,
          2,
          4,
          4,
          2,
          8,
          4,
          4,
          4,
          4,
          4,
          8,
          2,
          4,
          4,
          4,
          4,
          2,
          2,
          8,
          8,
          8,
          8,
          4,
          8,
          8,
          4,
          8,
          2
         ],
         "xaxis": "x4",
         "y": [
          0.14659926470588236,
          0.1875,
          0.19163602941176472,
          0.19209558823529413,
          0.20588235294117646,
          0.2270220588235294,
          0.2536764705882353,
          0.28079044117647056,
          0.42463235294117646,
          0.5404411764705882,
          0.5445772058823529,
          0.6608455882352942,
          0.6695772058823529,
          0.6709558823529411,
          0.6819852941176471,
          0.7398897058823529,
          0.7532169117647058,
          0.7863051470588235,
          0.8405330882352942,
          0.8442095588235294,
          0.8837316176470589,
          0.8892463235294118,
          0.8910845588235294,
          0.8952205882352942,
          0.9044117647058824,
          0.9099264705882353,
          0.9099264705882353,
          0.9126838235294118,
          0.9200367647058824,
          0.9301470588235294,
          0.9416360294117647,
          0.9526654411764706,
          0.9558823529411765,
          0.9669117647058824,
          0.9724264705882353,
          0.9747242647058824,
          0.9779411764705882,
          0.9839154411764706,
          0.9857536764705882,
          0.9875919117647058
         ],
         "yaxis": "y4"
        }
       ],
       "layout": {
        "annotations": [
         {
          "font": {
           "size": 16
          },
          "showarrow": false,
          "text": "hidden_size",
          "x": 0.225,
          "xanchor": "center",
          "xref": "paper",
          "y": 1,
          "yanchor": "bottom",
          "yref": "paper"
         },
         {
          "font": {
           "size": 16
          },
          "showarrow": false,
          "text": "dropout",
          "x": 0.775,
          "xanchor": "center",
          "xref": "paper",
          "y": 1,
          "yanchor": "bottom",
          "yref": "paper"
         },
         {
          "font": {
           "size": 16
          },
          "showarrow": false,
          "text": "num_layers",
          "x": 0.225,
          "xanchor": "center",
          "xref": "paper",
          "y": 0.375,
          "yanchor": "bottom",
          "yref": "paper"
         },
         {
          "font": {
           "size": 16
          },
          "showarrow": false,
          "text": "num_heads",
          "x": 0.775,
          "xanchor": "center",
          "xref": "paper",
          "y": 0.375,
          "yanchor": "bottom",
          "yref": "paper"
         }
        ],
        "height": 600,
        "showlegend": false,
        "template": {
         "data": {
          "bar": [
           {
            "error_x": {
             "color": "#2a3f5f"
            },
            "error_y": {
             "color": "#2a3f5f"
            },
            "marker": {
             "line": {
              "color": "#E5ECF6",
              "width": 0.5
             },
             "pattern": {
              "fillmode": "overlay",
              "size": 10,
              "solidity": 0.2
             }
            },
            "type": "bar"
           }
          ],
          "barpolar": [
           {
            "marker": {
             "line": {
              "color": "#E5ECF6",
              "width": 0.5
             },
             "pattern": {
              "fillmode": "overlay",
              "size": 10,
              "solidity": 0.2
             }
            },
            "type": "barpolar"
           }
          ],
          "carpet": [
           {
            "aaxis": {
             "endlinecolor": "#2a3f5f",
             "gridcolor": "white",
             "linecolor": "white",
             "minorgridcolor": "white",
             "startlinecolor": "#2a3f5f"
            },
            "baxis": {
             "endlinecolor": "#2a3f5f",
             "gridcolor": "white",
             "linecolor": "white",
             "minorgridcolor": "white",
             "startlinecolor": "#2a3f5f"
            },
            "type": "carpet"
           }
          ],
          "choropleth": [
           {
            "colorbar": {
             "outlinewidth": 0,
             "ticks": ""
            },
            "type": "choropleth"
           }
          ],
          "contour": [
           {
            "colorbar": {
             "outlinewidth": 0,
             "ticks": ""
            },
            "colorscale": [
             [
              0,
              "#0d0887"
             ],
             [
              0.1111111111111111,
              "#46039f"
             ],
             [
              0.2222222222222222,
              "#7201a8"
             ],
             [
              0.3333333333333333,
              "#9c179e"
             ],
             [
              0.4444444444444444,
              "#bd3786"
             ],
             [
              0.5555555555555556,
              "#d8576b"
             ],
             [
              0.6666666666666666,
              "#ed7953"
             ],
             [
              0.7777777777777778,
              "#fb9f3a"
             ],
             [
              0.8888888888888888,
              "#fdca26"
             ],
             [
              1,
              "#f0f921"
             ]
            ],
            "type": "contour"
           }
          ],
          "contourcarpet": [
           {
            "colorbar": {
             "outlinewidth": 0,
             "ticks": ""
            },
            "type": "contourcarpet"
           }
          ],
          "heatmap": [
           {
            "colorbar": {
             "outlinewidth": 0,
             "ticks": ""
            },
            "colorscale": [
             [
              0,
              "#0d0887"
             ],
             [
              0.1111111111111111,
              "#46039f"
             ],
             [
              0.2222222222222222,
              "#7201a8"
             ],
             [
              0.3333333333333333,
              "#9c179e"
             ],
             [
              0.4444444444444444,
              "#bd3786"
             ],
             [
              0.5555555555555556,
              "#d8576b"
             ],
             [
              0.6666666666666666,
              "#ed7953"
             ],
             [
              0.7777777777777778,
              "#fb9f3a"
             ],
             [
              0.8888888888888888,
              "#fdca26"
             ],
             [
              1,
              "#f0f921"
             ]
            ],
            "type": "heatmap"
           }
          ],
          "heatmapgl": [
           {
            "colorbar": {
             "outlinewidth": 0,
             "ticks": ""
            },
            "colorscale": [
             [
              0,
              "#0d0887"
             ],
             [
              0.1111111111111111,
              "#46039f"
             ],
             [
              0.2222222222222222,
              "#7201a8"
             ],
             [
              0.3333333333333333,
              "#9c179e"
             ],
             [
              0.4444444444444444,
              "#bd3786"
             ],
             [
              0.5555555555555556,
              "#d8576b"
             ],
             [
              0.6666666666666666,
              "#ed7953"
             ],
             [
              0.7777777777777778,
              "#fb9f3a"
             ],
             [
              0.8888888888888888,
              "#fdca26"
             ],
             [
              1,
              "#f0f921"
             ]
            ],
            "type": "heatmapgl"
           }
          ],
          "histogram": [
           {
            "marker": {
             "pattern": {
              "fillmode": "overlay",
              "size": 10,
              "solidity": 0.2
             }
            },
            "type": "histogram"
           }
          ],
          "histogram2d": [
           {
            "colorbar": {
             "outlinewidth": 0,
             "ticks": ""
            },
            "colorscale": [
             [
              0,
              "#0d0887"
             ],
             [
              0.1111111111111111,
              "#46039f"
             ],
             [
              0.2222222222222222,
              "#7201a8"
             ],
             [
              0.3333333333333333,
              "#9c179e"
             ],
             [
              0.4444444444444444,
              "#bd3786"
             ],
             [
              0.5555555555555556,
              "#d8576b"
             ],
             [
              0.6666666666666666,
              "#ed7953"
             ],
             [
              0.7777777777777778,
              "#fb9f3a"
             ],
             [
              0.8888888888888888,
              "#fdca26"
             ],
             [
              1,
              "#f0f921"
             ]
            ],
            "type": "histogram2d"
           }
          ],
          "histogram2dcontour": [
           {
            "colorbar": {
             "outlinewidth": 0,
             "ticks": ""
            },
            "colorscale": [
             [
              0,
              "#0d0887"
             ],
             [
              0.1111111111111111,
              "#46039f"
             ],
             [
              0.2222222222222222,
              "#7201a8"
             ],
             [
              0.3333333333333333,
              "#9c179e"
             ],
             [
              0.4444444444444444,
              "#bd3786"
             ],
             [
              0.5555555555555556,
              "#d8576b"
             ],
             [
              0.6666666666666666,
              "#ed7953"
             ],
             [
              0.7777777777777778,
              "#fb9f3a"
             ],
             [
              0.8888888888888888,
              "#fdca26"
             ],
             [
              1,
              "#f0f921"
             ]
            ],
            "type": "histogram2dcontour"
           }
          ],
          "mesh3d": [
           {
            "colorbar": {
             "outlinewidth": 0,
             "ticks": ""
            },
            "type": "mesh3d"
           }
          ],
          "parcoords": [
           {
            "line": {
             "colorbar": {
              "outlinewidth": 0,
              "ticks": ""
             }
            },
            "type": "parcoords"
           }
          ],
          "pie": [
           {
            "automargin": true,
            "type": "pie"
           }
          ],
          "scatter": [
           {
            "fillpattern": {
             "fillmode": "overlay",
             "size": 10,
             "solidity": 0.2
            },
            "type": "scatter"
           }
          ],
          "scatter3d": [
           {
            "line": {
             "colorbar": {
              "outlinewidth": 0,
              "ticks": ""
             }
            },
            "marker": {
             "colorbar": {
              "outlinewidth": 0,
              "ticks": ""
             }
            },
            "type": "scatter3d"
           }
          ],
          "scattercarpet": [
           {
            "marker": {
             "colorbar": {
              "outlinewidth": 0,
              "ticks": ""
             }
            },
            "type": "scattercarpet"
           }
          ],
          "scattergeo": [
           {
            "marker": {
             "colorbar": {
              "outlinewidth": 0,
              "ticks": ""
             }
            },
            "type": "scattergeo"
           }
          ],
          "scattergl": [
           {
            "marker": {
             "colorbar": {
              "outlinewidth": 0,
              "ticks": ""
             }
            },
            "type": "scattergl"
           }
          ],
          "scattermapbox": [
           {
            "marker": {
             "colorbar": {
              "outlinewidth": 0,
              "ticks": ""
             }
            },
            "type": "scattermapbox"
           }
          ],
          "scatterpolar": [
           {
            "marker": {
             "colorbar": {
              "outlinewidth": 0,
              "ticks": ""
             }
            },
            "type": "scatterpolar"
           }
          ],
          "scatterpolargl": [
           {
            "marker": {
             "colorbar": {
              "outlinewidth": 0,
              "ticks": ""
             }
            },
            "type": "scatterpolargl"
           }
          ],
          "scatterternary": [
           {
            "marker": {
             "colorbar": {
              "outlinewidth": 0,
              "ticks": ""
             }
            },
            "type": "scatterternary"
           }
          ],
          "surface": [
           {
            "colorbar": {
             "outlinewidth": 0,
             "ticks": ""
            },
            "colorscale": [
             [
              0,
              "#0d0887"
             ],
             [
              0.1111111111111111,
              "#46039f"
             ],
             [
              0.2222222222222222,
              "#7201a8"
             ],
             [
              0.3333333333333333,
              "#9c179e"
             ],
             [
              0.4444444444444444,
              "#bd3786"
             ],
             [
              0.5555555555555556,
              "#d8576b"
             ],
             [
              0.6666666666666666,
              "#ed7953"
             ],
             [
              0.7777777777777778,
              "#fb9f3a"
             ],
             [
              0.8888888888888888,
              "#fdca26"
             ],
             [
              1,
              "#f0f921"
             ]
            ],
            "type": "surface"
           }
          ],
          "table": [
           {
            "cells": {
             "fill": {
              "color": "#EBF0F8"
             },
             "line": {
              "color": "white"
             }
            },
            "header": {
             "fill": {
              "color": "#C8D4E3"
             },
             "line": {
              "color": "white"
             }
            },
            "type": "table"
           }
          ]
         },
         "layout": {
          "annotationdefaults": {
           "arrowcolor": "#2a3f5f",
           "arrowhead": 0,
           "arrowwidth": 1
          },
          "autotypenumbers": "strict",
          "coloraxis": {
           "colorbar": {
            "outlinewidth": 0,
            "ticks": ""
           }
          },
          "colorscale": {
           "diverging": [
            [
             0,
             "#8e0152"
            ],
            [
             0.1,
             "#c51b7d"
            ],
            [
             0.2,
             "#de77ae"
            ],
            [
             0.3,
             "#f1b6da"
            ],
            [
             0.4,
             "#fde0ef"
            ],
            [
             0.5,
             "#f7f7f7"
            ],
            [
             0.6,
             "#e6f5d0"
            ],
            [
             0.7,
             "#b8e186"
            ],
            [
             0.8,
             "#7fbc41"
            ],
            [
             0.9,
             "#4d9221"
            ],
            [
             1,
             "#276419"
            ]
           ],
           "sequential": [
            [
             0,
             "#0d0887"
            ],
            [
             0.1111111111111111,
             "#46039f"
            ],
            [
             0.2222222222222222,
             "#7201a8"
            ],
            [
             0.3333333333333333,
             "#9c179e"
            ],
            [
             0.4444444444444444,
             "#bd3786"
            ],
            [
             0.5555555555555556,
             "#d8576b"
            ],
            [
             0.6666666666666666,
             "#ed7953"
            ],
            [
             0.7777777777777778,
             "#fb9f3a"
            ],
            [
             0.8888888888888888,
             "#fdca26"
            ],
            [
             1,
             "#f0f921"
            ]
           ],
           "sequentialminus": [
            [
             0,
             "#0d0887"
            ],
            [
             0.1111111111111111,
             "#46039f"
            ],
            [
             0.2222222222222222,
             "#7201a8"
            ],
            [
             0.3333333333333333,
             "#9c179e"
            ],
            [
             0.4444444444444444,
             "#bd3786"
            ],
            [
             0.5555555555555556,
             "#d8576b"
            ],
            [
             0.6666666666666666,
             "#ed7953"
            ],
            [
             0.7777777777777778,
             "#fb9f3a"
            ],
            [
             0.8888888888888888,
             "#fdca26"
            ],
            [
             1,
             "#f0f921"
            ]
           ]
          },
          "colorway": [
           "#636efa",
           "#EF553B",
           "#00cc96",
           "#ab63fa",
           "#FFA15A",
           "#19d3f3",
           "#FF6692",
           "#B6E880",
           "#FF97FF",
           "#FECB52"
          ],
          "font": {
           "color": "#2a3f5f"
          },
          "geo": {
           "bgcolor": "white",
           "lakecolor": "white",
           "landcolor": "#E5ECF6",
           "showlakes": true,
           "showland": true,
           "subunitcolor": "white"
          },
          "hoverlabel": {
           "align": "left"
          },
          "hovermode": "closest",
          "mapbox": {
           "style": "light"
          },
          "paper_bgcolor": "white",
          "plot_bgcolor": "#E5ECF6",
          "polar": {
           "angularaxis": {
            "gridcolor": "white",
            "linecolor": "white",
            "ticks": ""
           },
           "bgcolor": "#E5ECF6",
           "radialaxis": {
            "gridcolor": "white",
            "linecolor": "white",
            "ticks": ""
           }
          },
          "scene": {
           "xaxis": {
            "backgroundcolor": "#E5ECF6",
            "gridcolor": "white",
            "gridwidth": 2,
            "linecolor": "white",
            "showbackground": true,
            "ticks": "",
            "zerolinecolor": "white"
           },
           "yaxis": {
            "backgroundcolor": "#E5ECF6",
            "gridcolor": "white",
            "gridwidth": 2,
            "linecolor": "white",
            "showbackground": true,
            "ticks": "",
            "zerolinecolor": "white"
           },
           "zaxis": {
            "backgroundcolor": "#E5ECF6",
            "gridcolor": "white",
            "gridwidth": 2,
            "linecolor": "white",
            "showbackground": true,
            "ticks": "",
            "zerolinecolor": "white"
           }
          },
          "shapedefaults": {
           "line": {
            "color": "#2a3f5f"
           }
          },
          "ternary": {
           "aaxis": {
            "gridcolor": "white",
            "linecolor": "white",
            "ticks": ""
           },
           "baxis": {
            "gridcolor": "white",
            "linecolor": "white",
            "ticks": ""
           },
           "bgcolor": "#E5ECF6",
           "caxis": {
            "gridcolor": "white",
            "linecolor": "white",
            "ticks": ""
           }
          },
          "title": {
           "x": 0.05
          },
          "xaxis": {
           "automargin": true,
           "gridcolor": "white",
           "linecolor": "white",
           "ticks": "",
           "title": {
            "standoff": 15
           },
           "zerolinecolor": "white",
           "zerolinewidth": 2
          },
          "yaxis": {
           "automargin": true,
           "gridcolor": "white",
           "linecolor": "white",
           "ticks": "",
           "title": {
            "standoff": 15
           },
           "zerolinecolor": "white",
           "zerolinewidth": 2
          }
         }
        },
        "title": {
         "text": "Parameters vs accuarcy"
        },
        "width": 800,
        "xaxis": {
         "anchor": "y",
         "domain": [
          0,
          0.45
         ],
         "title": {
          "text": "hidden_size"
         }
        },
        "xaxis2": {
         "anchor": "y2",
         "domain": [
          0.55,
          1
         ],
         "title": {
          "text": "dropout"
         }
        },
        "xaxis3": {
         "anchor": "y3",
         "domain": [
          0,
          0.45
         ],
         "title": {
          "text": "num_layers"
         }
        },
        "xaxis4": {
         "anchor": "y4",
         "domain": [
          0.55,
          1
         ],
         "title": {
          "text": "num_heads"
         }
        },
        "yaxis": {
         "anchor": "x",
         "domain": [
          0.625,
          1
         ],
         "title": {
          "text": "Accuracy"
         }
        },
        "yaxis2": {
         "anchor": "x2",
         "domain": [
          0.625,
          1
         ],
         "title": {
          "text": "Accuracy"
         }
        },
        "yaxis3": {
         "anchor": "x3",
         "domain": [
          0,
          0.375
         ],
         "title": {
          "text": "Accuracy"
         }
        },
        "yaxis4": {
         "anchor": "x4",
         "domain": [
          0,
          0.375
         ],
         "title": {
          "text": "Accuracy"
         }
        }
       }
      }
     },
     "metadata": {},
     "output_type": "display_data"
    }
   ],
   "source": [
    "from plotly.subplots import make_subplots\n",
    "import plotly.graph_objects as go\n",
    "\n",
    "columns = p.iloc[:,2:].columns.to_list()\n",
    "\n",
    "set_rows = 2\n",
    "set_cols = 2\n",
    "row_count = 0\n",
    "col_count = 1\n",
    "\n",
    "fig = make_subplots(\n",
    "    rows=set_rows,\n",
    "     cols=set_cols,\n",
    "     subplot_titles=([name.split(\"/\",1)[1] for name in columns])\n",
    ")\n",
    "\n",
    "for num,column in enumerate(columns):\n",
    "    col_name = column.split(\"/\",1)[1]\n",
    "    if (num)% 2 == 0:\n",
    "        row_count += 1\n",
    "        col_count = 1\n",
    "    else:\n",
    "        col_count += 1\n",
    "\n",
    "    fig.add_trace(\n",
    "        go.Scatter(\n",
    "                x=p[column],\n",
    "                y=p[\"Accuracy\"],\n",
    "                mode=\"markers\"\n",
    "        ),\n",
    "        row=row_count,\n",
    "        col=col_count\n",
    "    )\n",
    "\n",
    "    fig.update_xaxes(title_text=col_name, row=row_count, col=col_count)\n",
    "    fig.update_yaxes(title_text=\"Accuracy\", row=row_count, col=col_count)\n",
    "\n",
    "fig.update_layout(\n",
    "    height=600,\n",
    "    width=800,\n",
    "    title_text=\"Parameters vs accuarcy\",\n",
    "    showlegend=False\n",
    ")\n",
    "\n",
    "fig.show()\n"
   ]
  },
  {
   "cell_type": "code",
   "execution_count": 32,
   "metadata": {},
   "outputs": [
    {
     "data": {
      "text/plain": [
       "train_b5273c64"
      ]
     },
     "execution_count": 32,
     "metadata": {},
     "output_type": "execute_result"
    }
   ],
   "source": [
    "# Best trial:\n",
    "analysis.get_best_trial(metric=\"test_loss\", mode=\"min\")\n"
   ]
  },
  {
   "cell_type": "code",
   "execution_count": 137,
   "metadata": {},
   "outputs": [
    {
     "data": {
      "text/html": [
       "<div>\n",
       "<style scoped>\n",
       "    .dataframe tbody tr th:only-of-type {\n",
       "        vertical-align: middle;\n",
       "    }\n",
       "\n",
       "    .dataframe tbody tr th {\n",
       "        vertical-align: top;\n",
       "    }\n",
       "\n",
       "    .dataframe thead th {\n",
       "        text-align: right;\n",
       "    }\n",
       "</style>\n",
       "<table border=\"1\" class=\"dataframe\">\n",
       "  <thead>\n",
       "    <tr style=\"text-align: right;\">\n",
       "      <th></th>\n",
       "      <th>trial_id</th>\n",
       "      <th>Accuracy</th>\n",
       "      <th>config/hidden_size</th>\n",
       "      <th>config/dropout</th>\n",
       "      <th>config/num_layers</th>\n",
       "      <th>config/num_heads</th>\n",
       "    </tr>\n",
       "  </thead>\n",
       "  <tbody>\n",
       "    <tr>\n",
       "      <th>25</th>\n",
       "      <td>b5273c64</td>\n",
       "      <td>0.987592</td>\n",
       "      <td>160</td>\n",
       "      <td>0.020913</td>\n",
       "      <td>2</td>\n",
       "      <td>2</td>\n",
       "    </tr>\n",
       "  </tbody>\n",
       "</table>\n",
       "</div>"
      ],
      "text/plain": [
       "    trial_id  Accuracy  config/hidden_size  config/dropout  config/num_layers  \\\n",
       "25  b5273c64  0.987592                 160        0.020913                  2   \n",
       "\n",
       "    config/num_heads  \n",
       "25                 2  "
      ]
     },
     "execution_count": 137,
     "metadata": {},
     "output_type": "execute_result"
    }
   ],
   "source": [
    "p[-1:]\n"
   ]
  },
  {
   "cell_type": "markdown",
   "metadata": {},
   "source": [
    "Or the best config"
   ]
  },
  {
   "cell_type": "code",
   "execution_count": 27,
   "metadata": {},
   "outputs": [
    {
     "data": {
      "text/plain": [
       "{'input': 13,\n",
       " 'output': 20,\n",
       " 'tunedir': WindowsPath('C:/Users/gvanh/Git_documents/ML22-tentamen/logsGRUAtt'),\n",
       " 'hidden_size': 160,\n",
       " 'num_layers': 2,\n",
       " 'num_heads': 2,\n",
       " 'dropout': 0.020912795763146617}"
      ]
     },
     "execution_count": 27,
     "metadata": {},
     "output_type": "execute_result"
    }
   ],
   "source": [
    "analysis.get_best_config(metric=\"Accuracy\", mode=\"max\")\n"
   ]
  },
  {
   "cell_type": "code",
   "execution_count": null,
   "metadata": {},
   "outputs": [],
   "source": []
  }
 ],
 "metadata": {
  "kernelspec": {
   "display_name": "tentamen-gYSlv3NN-py3.9",
   "language": "python",
   "name": "python3"
  },
  "language_info": {
   "codemirror_mode": {
    "name": "ipython",
    "version": 3
   },
   "file_extension": ".py",
   "mimetype": "text/x-python",
   "name": "python",
   "nbconvert_exporter": "python",
   "pygments_lexer": "ipython3",
   "version": "3.9.12"
  },
  "orig_nbformat": 4,
  "vscode": {
   "interpreter": {
    "hash": "3efb85060859c1f17cdc8a1f0957274a9b32881752312a613eb8ae7a7bf7b990"
   }
  }
 },
 "nbformat": 4,
 "nbformat_minor": 2
}
